{
 "cells": [
  {
   "cell_type": "markdown",
   "id": "79c1aebf",
   "metadata": {},
   "source": [
    "# Tensorflow\n",
    "\n",
    "TensorFlow is a free and open-source software library for machine learning and artificial intelligence. It can be used across a range of tasks but has a particular focus on training and inference of deep neural networks. [wikipedia](https://en.wikipedia.org/wiki/TensorFlow)\n",
    "\n",
    "## Install Tensorflow\n",
    "\n",
    "You need ensure that card in computer support Tensorflow before want install it: [https://developer.nvidia.com/cuda-gpus](https://developer.nvidia.com/cuda-gpus)\n",
    "\n",
    "I recommend you should use card **RTX** at the momment. First at all, you need install tensorflow : \n",
    "\n",
    "```bash\n",
    "pip install tensorflow\n",
    "```\n",
    "\n",
    "## Install Cuda\n",
    "\n",
    "You need install cuda and cudnn before work with tensorflow, because tensor need GPU to use for process.\n",
    "\n",
    "- Cuda : [https://developer.nvidia.com/cuda-toolkit](https://developer.nvidia.com/cuda-toolkit)\n",
    "\n",
    "- CUDNN : [https://developer.nvidia.com/cudnn](https://developer.nvidia.com/cudnn)\n",
    "\n",
    "**Warning** : \n",
    "\n",
    "- Please download version map with version of tensorflow, see at [https://www.tensorflow.org/install/source#gpu](https://www.tensorflow.org/install/source#gpu)/\n",
    "- Please download tensorflow map with version python, see at : [https://www.tensorflow.org/install/source_windows#tested_build_configurations](https://www.tensorflow.org/install/source_windows#tested_build_configurations)\n",
    "\n",
    "To check Cuda version installed in computer, let use command:\n",
    "\n",
    "``` bash\n",
    "nvidia-smi\n",
    "nvcc --version\n",
    "```\n",
    "When Cuda intalled sucessfully , now you can check tensorflow is supported tensorfllow version and gpu support. In code sample bellow , I will check version of python,pandas,tensorflow and list gpu supported."
   ]
  },
  {
   "cell_type": "code",
   "execution_count": 1,
   "id": "11dd9023",
   "metadata": {},
   "outputs": [
    {
     "name": "stdout",
     "output_type": "stream",
     "text": [
      "Tensor Flow Version: 2.10.0\n",
      "Keras Version: 2.10.0\n",
      "\n",
      "Python 3.10.8 (tags/v3.10.8:aaaf517, Oct 11 2022, 16:50:30) [MSC v.1933 64 bit (AMD64)]\n",
      "Pandas 1.5.1\n",
      "Scikit-Learn 1.1.2\n",
      "GPU is NOT AVAILABLE\n"
     ]
    }
   ],
   "source": [
    "import sys\n",
    "\n",
    "import tensorflow.keras\n",
    "import pandas as pd\n",
    "import sklearn as sk\n",
    "import tensorflow as tf\n",
    "\n",
    "print(f\"Tensor Flow Version: {tf.__version__}\")\n",
    "print(f\"Keras Version: {tensorflow.keras.__version__}\")\n",
    "print()\n",
    "print(f\"Python {sys.version}\")\n",
    "print(f\"Pandas {pd.__version__}\")\n",
    "print(f\"Scikit-Learn {sk.__version__}\")\n",
    "gpu = len(tf.config.list_physical_devices('GPU'))>0\n",
    "print(\"GPU is\", \"available\" if gpu else \"NOT AVAILABLE\")"
   ]
  },
  {
   "cell_type": "markdown",
   "id": "d02a17d7",
   "metadata": {},
   "source": [
    "## Start with Tensorflow"
   ]
  },
  {
   "cell_type": "code",
   "execution_count": 2,
   "id": "8a6aee7b",
   "metadata": {},
   "outputs": [
    {
     "name": "stdout",
     "output_type": "stream",
     "text": [
      "2.10.0\n",
      "Hello TesorFlow\r\n"
     ]
    },
    {
     "name": "stdout",
     "output_type": "stream",
     "text": [
      "tf.Tensor([ 5 12 21 32], shape=(4,), dtype=int32)\n"
     ]
    }
   ],
   "source": [
    "import tensorflow as tf\n",
    "print(tf.__version__)\n",
    "msg = tf.constant(\"Hello TesorFlow\")\n",
    "tf.print(msg)\n",
    "x1 = tf.constant([1,2,3,4])\n",
    "x2 = tf.constant([5,6,7,8])\n",
    "result = tf.multiply(x1,x2)\n",
    "print(result)\n",
    "#OUT = result "
   ]
  },
  {
   "cell_type": "markdown",
   "id": "fceeaa9e",
   "metadata": {},
   "source": [
    "Use GPU inside tensorflow :"
   ]
  },
  {
   "cell_type": "code",
   "execution_count": 3,
   "id": "d98a0b1a",
   "metadata": {},
   "outputs": [],
   "source": [
    "tf.debugging.set_log_device_placement(True)\n",
    "\n",
    "gpus = tf.config.list_logical_devices('GPU')\n",
    "if gpus:\n",
    "  # Replicate your computation on multiple GPUs\n",
    "  c = []\n",
    "  for gpu in gpus:\n",
    "    with tf.device(gpu.name):\n",
    "      a = tf.constant([[1.0, 2.0, 3.0], [4.0, 5.0, 6.0]])\n",
    "      b = tf.constant([[1.0, 2.0], [3.0, 4.0], [5.0, 6.0]])\n",
    "      c.append(tf.matmul(a, b))\n",
    "  with tf.device('/CPU:0'):\n",
    "    matmul_sum = tf.add_n(c)\n",
    "    print(matmul_sum)"
   ]
  },
  {
   "cell_type": "markdown",
   "id": "b57712bb",
   "metadata": {},
   "source": [
    "- Read more discusstion at :\n",
    "\n",
    "[https://forum.dynamobim.com/t/is-python-3-in-dynamo-use-gpu-or-cpu/69619/11](https://forum.dynamobim.com/t/is-python-3-in-dynamo-use-gpu-or-cpu/69619/11)\n",
    "\n",
    "[https://medium.com/@medasuryatej/install-tensorflow-gpu-2-0-f4e215438199](https://medium.com/@medasuryatej/install-tensorflow-gpu-2-0-f4e215438199)"
   ]
  }
 ],
 "metadata": {
  "jupytext": {
   "text_representation": {
    "extension": ".md",
    "format_name": "myst"
   }
  },
  "kernelspec": {
   "display_name": "Python 3",
   "language": "python",
   "name": "python3"
  },
  "language_info": {
   "codemirror_mode": {
    "name": "ipython",
    "version": 3
   },
   "file_extension": ".py",
   "mimetype": "text/x-python",
   "name": "python",
   "nbconvert_exporter": "python",
   "pygments_lexer": "ipython3",
   "version": "3.10.8"
  },
  "source_map": [
   10,
   47,
   63,
   66,
   76,
   80,
   95
  ]
 },
 "nbformat": 4,
 "nbformat_minor": 5
}