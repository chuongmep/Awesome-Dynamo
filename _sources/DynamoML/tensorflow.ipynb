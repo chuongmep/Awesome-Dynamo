{
 "cells": [
  {
   "cell_type": "markdown",
   "id": "c5543977",
   "metadata": {},
   "source": [
    "# Tensorflow\n",
    "\n",
    "TensorFlow is a free and open-source software library for machine learning and artificial intelligence. It can be used across a range of tasks but has a particular focus on training and inference of deep neural networks. [wikipedia](https://en.wikipedia.org/wiki/TensorFlow)\n",
    "\n",
    "## Install Tensorflow\n",
    "\n",
    "You need ensure that card in computer support Tensorflow before want install it: [https://developer.nvidia.com/cuda-gpus](https://developer.nvidia.com/cuda-gpus)\n",
    "\n",
    "I recommend you should use card **RTX** at the momment. First at all, you need install tensorflow : \n",
    "\n",
    "```bash\n",
    "pip install tensorflow\n",
    "```\n",
    "\n",
    "## Install Cuda\n",
    "\n",
    "You need install cuda and cudnn before work with tensorflow, because tensor need GPU to use for process.\n",
    "\n",
    "- Cuda : [https://developer.nvidia.com/cuda-toolkit](https://developer.nvidia.com/cuda-toolkit)\n",
    "\n",
    "- CUDNN : [https://developer.nvidia.com/cudnn](https://developer.nvidia.com/cudnn)\n",
    "\n",
    "**Warning** : \n",
    "\n",
    "- Please download version map with version of tensorflow, see at [https://www.tensorflow.org/install/source#gpu](https://www.tensorflow.org/install/source#gpu)/\n",
    "- Please download tensorflow map with version python, see at : [https://www.tensorflow.org/install/source_windows#tested_build_configurations](https://www.tensorflow.org/install/source_windows#tested_build_configurations)\n",
    "\n",
    "To check Cuda version installed in computer, let use command:\n",
    "\n",
    "``` bash\n",
    "nvidia-smi\n",
    "nvcc --version\n",
    "```\n",
    "When Cuda intalled sucessfully , now you can check tensorflow is supported tensorfllow version and gpu support. In code sample bellow , I will check version of python,pandas,tensorflow and list gpu supported."
   ]
  },
  {
   "cell_type": "code",
   "execution_count": 1,
   "id": "72d93762",
   "metadata": {},
   "outputs": [
    {
     "name": "stderr",
     "output_type": "stream",
     "text": [
      "2023-02-22 00:54:40.660623: I tensorflow/core/platform/cpu_feature_guard.cc:193] This TensorFlow binary is optimized with oneAPI Deep Neural Network Library (oneDNN) to use the following CPU instructions in performance-critical operations:  AVX2 AVX512F FMA\n",
      "To enable them in other operations, rebuild TensorFlow with the appropriate compiler flags.\n",
      "2023-02-22 00:54:40.791897: W tensorflow/compiler/xla/stream_executor/platform/default/dso_loader.cc:64] Could not load dynamic library 'libcudart.so.11.0'; dlerror: libcudart.so.11.0: cannot open shared object file: No such file or directory; LD_LIBRARY_PATH: /opt/hostedtoolcache/Python/3.8.16/x64/lib\n",
      "2023-02-22 00:54:40.791924: I tensorflow/compiler/xla/stream_executor/cuda/cudart_stub.cc:29] Ignore above cudart dlerror if you do not have a GPU set up on your machine.\n"
     ]
    },
    {
     "name": "stderr",
     "output_type": "stream",
     "text": [
      "2023-02-22 00:54:41.673014: W tensorflow/compiler/xla/stream_executor/platform/default/dso_loader.cc:64] Could not load dynamic library 'libnvinfer.so.7'; dlerror: libnvinfer.so.7: cannot open shared object file: No such file or directory; LD_LIBRARY_PATH: /opt/hostedtoolcache/Python/3.8.16/x64/lib\n",
      "2023-02-22 00:54:41.673109: W tensorflow/compiler/xla/stream_executor/platform/default/dso_loader.cc:64] Could not load dynamic library 'libnvinfer_plugin.so.7'; dlerror: libnvinfer_plugin.so.7: cannot open shared object file: No such file or directory; LD_LIBRARY_PATH: /opt/hostedtoolcache/Python/3.8.16/x64/lib\n",
      "2023-02-22 00:54:41.673118: W tensorflow/compiler/tf2tensorrt/utils/py_utils.cc:38] TF-TRT Warning: Cannot dlopen some TensorRT libraries. If you would like to use Nvidia GPU with TensorRT, please make sure the missing libraries mentioned above are installed properly.\n"
     ]
    },
    {
     "name": "stdout",
     "output_type": "stream",
     "text": [
      "Tensor Flow Version: 2.11.0\n",
      "Keras Version: 2.11.0\n",
      "\n",
      "Python 3.8.16 (default, Jan 11 2023, 00:28:51) \n",
      "[GCC 11.3.0]\n",
      "Pandas 1.5.3\n",
      "Scikit-Learn 1.2.1\n",
      "GPU is NOT AVAILABLE\n"
     ]
    },
    {
     "name": "stderr",
     "output_type": "stream",
     "text": [
      "2023-02-22 00:54:43.167981: W tensorflow/compiler/xla/stream_executor/platform/default/dso_loader.cc:64] Could not load dynamic library 'libcuda.so.1'; dlerror: libcuda.so.1: cannot open shared object file: No such file or directory; LD_LIBRARY_PATH: /opt/hostedtoolcache/Python/3.8.16/x64/lib\n",
      "2023-02-22 00:54:43.168011: W tensorflow/compiler/xla/stream_executor/cuda/cuda_driver.cc:265] failed call to cuInit: UNKNOWN ERROR (303)\n",
      "2023-02-22 00:54:43.168037: I tensorflow/compiler/xla/stream_executor/cuda/cuda_diagnostics.cc:156] kernel driver does not appear to be running on this host (fv-az566-882): /proc/driver/nvidia/version does not exist\n"
     ]
    }
   ],
   "source": [
    "import sys\n",
    "\n",
    "import tensorflow.keras\n",
    "import pandas as pd\n",
    "import sklearn as sk\n",
    "import tensorflow as tf\n",
    "\n",
    "print(f\"Tensor Flow Version: {tf.__version__}\")\n",
    "print(f\"Keras Version: {tensorflow.keras.__version__}\")\n",
    "print()\n",
    "print(f\"Python {sys.version}\")\n",
    "print(f\"Pandas {pd.__version__}\")\n",
    "print(f\"Scikit-Learn {sk.__version__}\")\n",
    "gpu = len(tf.config.list_physical_devices('GPU'))>0\n",
    "print(\"GPU is\", \"available\" if gpu else \"NOT AVAILABLE\")"
   ]
  },
  {
   "cell_type": "markdown",
   "id": "410c94a6",
   "metadata": {},
   "source": [
    "## Start with Tensorflow"
   ]
  },
  {
   "cell_type": "code",
   "execution_count": 2,
   "id": "bb532ac9",
   "metadata": {},
   "outputs": [
    {
     "name": "stdout",
     "output_type": "stream",
     "text": [
      "2.11.0\n",
      "Hello TesorFlow\n"
     ]
    },
    {
     "name": "stdout",
     "output_type": "stream",
     "text": [
      "tf.Tensor([ 5 12 21 32], shape=(4,), dtype=int32)\n"
     ]
    },
    {
     "name": "stderr",
     "output_type": "stream",
     "text": [
      "2023-02-22 00:54:43.178890: I tensorflow/core/platform/cpu_feature_guard.cc:193] This TensorFlow binary is optimized with oneAPI Deep Neural Network Library (oneDNN) to use the following CPU instructions in performance-critical operations:  AVX2 AVX512F FMA\n",
      "To enable them in other operations, rebuild TensorFlow with the appropriate compiler flags.\n"
     ]
    }
   ],
   "source": [
    "import tensorflow as tf\n",
    "print(tf.__version__)\n",
    "msg = tf.constant(\"Hello TesorFlow\")\n",
    "tf.print(msg)\n",
    "x1 = tf.constant([1,2,3,4])\n",
    "x2 = tf.constant([5,6,7,8])\n",
    "result = tf.multiply(x1,x2)\n",
    "print(result)\n",
    "#OUT = result "
   ]
  },
  {
   "cell_type": "markdown",
   "id": "53d8281b",
   "metadata": {},
   "source": [
    "Use GPU inside tensorflow :"
   ]
  },
  {
   "cell_type": "code",
   "execution_count": 3,
   "id": "fc15d2da",
   "metadata": {},
   "outputs": [],
   "source": [
    "tf.debugging.set_log_device_placement(True)\n",
    "\n",
    "gpus = tf.config.list_logical_devices('GPU')\n",
    "if gpus:\n",
    "  # Replicate your computation on multiple GPUs\n",
    "  c = []\n",
    "  for gpu in gpus:\n",
    "    with tf.device(gpu.name):\n",
    "      a = tf.constant([[1.0, 2.0, 3.0], [4.0, 5.0, 6.0]])\n",
    "      b = tf.constant([[1.0, 2.0], [3.0, 4.0], [5.0, 6.0]])\n",
    "      c.append(tf.matmul(a, b))\n",
    "  with tf.device('/CPU:0'):\n",
    "    matmul_sum = tf.add_n(c)\n",
    "    print(matmul_sum)"
   ]
  },
  {
   "cell_type": "markdown",
   "id": "8746cc1c",
   "metadata": {},
   "source": [
    "- Read more discusstion at :\n",
    "\n",
    "[https://forum.dynamobim.com/t/is-python-3-in-dynamo-use-gpu-or-cpu/69619/11](https://forum.dynamobim.com/t/is-python-3-in-dynamo-use-gpu-or-cpu/69619/11)\n",
    "\n",
    "[https://medium.com/@medasuryatej/install-tensorflow-gpu-2-0-f4e215438199](https://medium.com/@medasuryatej/install-tensorflow-gpu-2-0-f4e215438199)"
   ]
  }
 ],
 "metadata": {
  "jupytext": {
   "text_representation": {
    "extension": ".md",
    "format_name": "myst"
   }
  },
  "kernelspec": {
   "display_name": "Python 3",
   "language": "python",
   "name": "python3"
  },
  "language_info": {
   "codemirror_mode": {
    "name": "ipython",
    "version": 3
   },
   "file_extension": ".py",
   "mimetype": "text/x-python",
   "name": "python",
   "nbconvert_exporter": "python",
   "pygments_lexer": "ipython3",
   "version": "3.8.16"
  },
  "source_map": [
   10,
   47,
   63,
   66,
   76,
   80,
   95
  ]
 },
 "nbformat": 4,
 "nbformat_minor": 5
}