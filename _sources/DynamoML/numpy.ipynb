{
 "cells": [
  {
   "cell_type": "markdown",
   "id": "f9547c0a",
   "metadata": {},
   "source": [
    "# Numpy\n",
    "\n",
    "[NumPy](https://numpy.org/) is a library for the Python programming language, adding support for large, multidimensional arrays and matrices, along with a large collection of high-level mathematical functions to operate on these arrays.\n",
    "\n",
    "```{figure} ../images/ML/numpy.png\n",
    "---\n",
    "height: 250px\n",
    "name: numpy-fig\n",
    "---\n",
    "\n",
    "```\n",
    "\n",
    "\n",
    "## Install\n",
    "\n",
    "Use command to install library. Because I am using a lot of python versions on my machine to work( 3.8.3, 3.9.6, 3.10 ), so I will use this command to install Numpy correctly with working version of python.In this example, I using python `3.8`.\n",
    "\n",
    "```bash\n",
    "py -3.8 -m pip install numpy\n",
    "```\n",
    "\n",
    "```{note}\n",
    "If on your machine this is installing python for the first time and using only one version, use the shortened command below to install NumPy. They are similar to the above command.\n",
    "``` bash\n",
    "pip install numpy\n",
    "\n",
    "```\n",
    "Check folder path installed by command in `Windows PowerShell`\n",
    "\n",
    "```bash\n",
    "python\n",
    "import sys\n",
    "sys.path[5]\n",
    "```\n",
    "\n",
    "```{figure} ../images/ML/sitepackage.png\n",
    "---\n",
    "height: 250px\n",
    "name: sitepackage-fig\n",
    "---\n",
    "Check Path Installed Package Python\n",
    "```\n",
    "Finally, you should make sure all functions and Numpy have installed successfully.\n",
    "\n",
    "```{figure} ../images/ML/nympyinstalled.png\n",
    "---\n",
    "height: 500px\n",
    "name: nympyinstalled-fig\n",
    "---\n",
    "Numpy Package Installed\n",
    "```\n",
    "\n",
    "## Start with Numpy\n",
    "\n",
    "Replace path lib with path in your computer before run script."
   ]
  },
  {
   "cell_type": "code",
   "execution_count": 1,
   "id": "b9921294",
   "metadata": {},
   "outputs": [
    {
     "data": {
      "text/plain": [
       "[0.0, 0.0, 0.0, 0.0, 0.0]"
      ]
     },
     "execution_count": 1,
     "metadata": {},
     "output_type": "execute_result"
    }
   ],
   "source": [
    "import numpy as np\n",
    "zeros = np.zeros(5)\n",
    "zeros.tolist()"
   ]
  },
  {
   "cell_type": "markdown",
   "id": "77910328",
   "metadata": {},
   "source": [
    "In [Dynamo](https://dynamobim.org/) scripts, you need to set `OUT` to see output\n",
    "\n",
    "```py\n",
    "import sys\n",
    "import os\n",
    "#import System\n",
    "#path_local = System.Environment.GetFolderPath(System.Environment.SpecialFolder.LocalApplicationData)\n",
    "sys.path.append(r'C:\\Users\\Chuong.Ho\\appdata\\local\\programs\\python\\python38\\lib\\site-packages')\n",
    "import numpy as np\n",
    "zeros = np.zeros(5)\n",
    "OUT = zeros.tolist()\n",
    "```\n",
    "`Result:`\n",
    "```{toggle}\n",
    "![](../images/ML/zerosnumpy.png)\n",
    "```\n",
    "`Download:`\n",
    "\n",
    "```{button-link} https://github.com/chuongmep/Awesome-Dynamo/blob/master/files/demonumpy.dyn\n",
    ":color: primary\n",
    ":shadow:\n",
    "```\n",
    "\n",
    "## Resolve problem with install version\n",
    "\n",
    "### Module Not Found Error\n",
    "\n",
    "`Module Not Found Error\": No Module \"numpy\" [File \"<string>\"], line1 in <module> \\n.`\n",
    "\n",
    "```{figure} ../images/ML/modulenumpyerror.png\n",
    "---\n",
    "height: 300px\n",
    "name: modulenumpyerror-fig\n",
    "---\n",
    "No Module \"numpy\" ...\n",
    "```\n",
    "\n",
    "`Solution:`  \n",
    "Check pip to install or append package from python path\n",
    "\n",
    "```py\n",
    "import sys\n",
    "sys.path.append(r'C:\\Users\\Chuong.Ho\\appdata\\local\\programs\\python\\python38\\lib\\site-packages')\n",
    "```\n",
    "\n",
    "### NumPy version install not correct.\n",
    "\n",
    "`Solution:` \n",
    "- Uninstall NumPy\n",
    "``` bash\n",
    "py -3.8 -m pip uninstall numpy\n",
    "```\n",
    "- Reinstall again with correct version of NumPy.\n",
    "\n",
    "```bash\n",
    "py -3.8 -m pip install numpy==1.18.1\n",
    "```"
   ]
  }
 ],
 "metadata": {
  "jupytext": {
   "text_representation": {
    "extension": ".md",
    "format_name": "myst"
   }
  },
  "kernelspec": {
   "display_name": "Python 3",
   "language": "python",
   "name": "python3"
  },
  "language_info": {
   "codemirror_mode": {
    "name": "ipython",
    "version": 3
   },
   "file_extension": ".py",
   "mimetype": "text/x-python",
   "name": "python",
   "nbconvert_exporter": "python",
   "pygments_lexer": "ipython3",
   "version": "3.10.8"
  },
  "source_map": [
   10,
   67,
   71
  ]
 },
 "nbformat": 4,
 "nbformat_minor": 5
}